{
 "cells": [
  {
   "cell_type": "code",
   "execution_count": 27,
   "metadata": {},
   "outputs": [],
   "source": [
    "from nltk.corpus import stopwords\n",
    "from nltk.tokenize import word_tokenize\n",
    "from nltk.stem import PorterStemmer, WordNetLemmatizer\n",
    "from nltk import pos_tag\n"
   ]
  },
  {
   "cell_type": "code",
   "execution_count": 28,
   "metadata": {},
   "outputs": [
    {
     "name": "stderr",
     "output_type": "stream",
     "text": [
      "[nltk_data] Downloading package punkt to /home/mj/nltk_data...\n",
      "[nltk_data]   Package punkt is already up-to-date!\n"
     ]
    },
    {
     "data": {
      "text/plain": [
       "True"
      ]
     },
     "execution_count": 28,
     "metadata": {},
     "output_type": "execute_result"
    }
   ],
   "source": [
    "import nltk\n",
    "nltk.download('punkt')"
   ]
  },
  {
   "cell_type": "code",
   "execution_count": 29,
   "metadata": {},
   "outputs": [
    {
     "name": "stdout",
     "output_type": "stream",
     "text": [
      "The field of data science has experienced tremendous growth and advancement in recent years. With the increasing availability of data and advancements in computing power, data scientists have been able to extract valuable insights and make informed decisions in various domains. Data science involves the extraction, transformation, and analysis of data to uncover patterns, trends, and relationships that can drive business or scientific outcomes. It combines techniques from statistics, mathematics, machine learning, and computer science to solve complex problems and generate actionable insights.\n",
      "One of the key components of data science is data analysis, which involves exploring and understanding the underlying patterns and structures within a dataset. This process often requires preprocessing the data, dealing with missing values, formatting variables, and transforming data to ensure it is in the appropriate format for analysis. Additionally, data visualization plays a crucial role in data analysis as it helps in understanding the distribution of variables, identifying outliers, and visualizing relationships between variables. Techniques such as scatter plots, box plots, and heatmaps are commonly used to visualize and analyze data.\n",
      "In addition to data analysis, data scientists also employ various modeling techniques to build predictive or descriptive models. These models can range from simple linear regression models to complex machine learning algorithms such as decision trees, random forests, or deep learning models. Evaluating the performance of these models is an essential step, and metrics such as accuracy, precision, recall, and F1-score are used to assess the model's effectiveness.\n",
      "Data science is a multidisciplinary field that requires a combination of technical skills, domain knowledge, and critical thinking. It has\n",
      "\n"
     ]
    }
   ],
   "source": [
    "with open(\"./Files/file1.txt\" , \"r\") as file:\n",
    "    document1 = file.read()\n",
    "\n",
    "print(document1)"
   ]
  },
  {
   "cell_type": "code",
   "execution_count": 30,
   "metadata": {},
   "outputs": [
    {
     "name": "stdout",
     "output_type": "stream",
     "text": [
      "The gentle breeze rustles through the leaves, creating a soothing melody. Birds chirp in the distance, their melodic songs filling the air. A field of colorful wildflowers sways gracefully in the wind, painting the landscape with vibrant hues. The sun shines brightly, casting its warm rays upon the earth.\n",
      "\n",
      "In a quaint little cafe, the aroma of freshly brewed coffee fills the air, enticing passersby. Baristas skillfully craft intricate latte art, turning coffee into a work of art. The sound of friendly chatter and laughter echoes throughout the cozy space. Patrons savor each sip, enjoying moments of relaxation.\n",
      "\n",
      "On a sandy beach, waves crash against the shore, creating a symphony of sounds. Children build sandcastles, their laughter filling the air with joy. Seagulls soar overhead, their graceful flight against the blue sky mesmerizing to watch. Beachgoers bask in the sun, enjoying the warmth on their skin.\n",
      "\n",
      "In a bustling market, vendors display their colorful array of fruits and vegetables. The scent of spices wafts through the air, tempting taste buds. Bargaining and lively conversations fill the atmosphere, creating a lively and vibrant ambiance. The market is a hub of activity and a feast for the senses.\n",
      "\n",
      "As night falls, stars twinkle in the velvety sky, illuminating the world with their celestial glow. The moon casts a gentle light, creating a romantic atmosphere. Fireflies dance among the trees, their soft glow adding a touch of magic to the night. Night owls hoot in the distance, while crickets serenade the darkness.\n",
      "\n",
      "Life is a beautiful journey, filled with moments of wonder and awe. From the tranquility of nature to the energy of bustling cities, every experience holds its own charm. Embrace the diversity and beauty that surrounds you, and let each day be an adventure worth cherishing.\n",
      "\n",
      "\n",
      "\n"
     ]
    }
   ],
   "source": [
    "with open(\"./Files/file2.txt\" , \"r\") as file:\n",
    "    document2 = file.read()\n",
    "\n",
    "print(document2)"
   ]
  },
  {
   "cell_type": "code",
   "execution_count": 31,
   "metadata": {},
   "outputs": [
    {
     "name": "stdout",
     "output_type": "stream",
     "text": [
      "The majestic mountains rise tall against the clear blue sky, their peaks capped with snow. The sound of a babbling brook fills the air, as it weaves its way through the lush green valley. A deer gracefully leaps across the meadow, its coat shimmering in the sunlight. The scent of pine trees permeates the forest, creating a refreshing aroma.\n",
      "\n",
      "In a cozy cottage nestled by the lakeside, a crackling fireplace warms the room. The soft glow of candlelight illuminates the space, creating a peaceful ambiance. The aroma of freshly baked apple pie fills the kitchen, enticing everyone with its delicious scent. Family and friends gather around the table, sharing laughter and stories.\n",
      "\n",
      "As the sun sets, painting the sky with hues of orange and pink, a sense of tranquility settles over the landscape. The stars twinkle brightly, creating a breathtaking canopy in the night sky. The moon casts a gentle glow, guiding the way for nocturnal creatures. Owls hoot in the distance, adding to the mystique of the night.\n",
      "\n",
      "In the city, bustling streets are filled with the rhythm of life. Neon lights illuminate the skyline, creating a vibrant display. People hurry along, immersed in their own worlds, while street performers captivate audiences with their talents. The aroma of diverse cuisines fills the air, tempting taste buds with a culinary adventure.\n",
      "\n",
      "Life is a tapestry of experiences, each thread woven with moments of joy, love, and discovery. From serene natural landscapes to vibrant urban landscapes, every corner of the world offers its own unique beauty. Embrace the wonders that surround you and let the journey unfold, filled with remarkable encounters and cherished memories.\n",
      "\n",
      "\n"
     ]
    }
   ],
   "source": [
    "with open(\"./Files/file3.txt\" , \"r\") as file:\n",
    "    document3 = file.read()\n",
    "\n",
    "print(document3)"
   ]
  },
  {
   "cell_type": "code",
   "execution_count": 32,
   "metadata": {},
   "outputs": [
    {
     "name": "stdout",
     "output_type": "stream",
     "text": [
      "0 th document is :\n",
      "['The', 'field', 'of', 'data', 'science', 'has', 'experienced', 'tremendous', 'growth', 'and', 'advancement', 'in', 'recent', 'years', '.', 'With', 'the', 'increasing', 'availability', 'of', 'data', 'and', 'advancements', 'in', 'computing', 'power', ',', 'data', 'scientists', 'have', 'been', 'able', 'to', 'extract', 'valuable', 'insights', 'and', 'make', 'informed', 'decisions', 'in', 'various', 'domains', '.', 'Data', 'science', 'involves', 'the', 'extraction', ',', 'transformation', ',', 'and', 'analysis', 'of', 'data', 'to', 'uncover', 'patterns', ',', 'trends', ',', 'and', 'relationships', 'that', 'can', 'drive', 'business', 'or', 'scientific', 'outcomes', '.', 'It', 'combines', 'techniques', 'from', 'statistics', ',', 'mathematics', ',', 'machine', 'learning', ',', 'and', 'computer', 'science', 'to', 'solve', 'complex', 'problems', 'and', 'generate', 'actionable', 'insights', '.', 'One', 'of', 'the', 'key', 'components', 'of', 'data', 'science', 'is', 'data', 'analysis', ',', 'which', 'involves', 'exploring', 'and', 'understanding', 'the', 'underlying', 'patterns', 'and', 'structures', 'within', 'a', 'dataset', '.', 'This', 'process', 'often', 'requires', 'preprocessing', 'the', 'data', ',', 'dealing', 'with', 'missing', 'values', ',', 'formatting', 'variables', ',', 'and', 'transforming', 'data', 'to', 'ensure', 'it', 'is', 'in', 'the', 'appropriate', 'format', 'for', 'analysis', '.', 'Additionally', ',', 'data', 'visualization', 'plays', 'a', 'crucial', 'role', 'in', 'data', 'analysis', 'as', 'it', 'helps', 'in', 'understanding', 'the', 'distribution', 'of', 'variables', ',', 'identifying', 'outliers', ',', 'and', 'visualizing', 'relationships', 'between', 'variables', '.', 'Techniques', 'such', 'as', 'scatter', 'plots', ',', 'box', 'plots', ',', 'and', 'heatmaps', 'are', 'commonly', 'used', 'to', 'visualize', 'and', 'analyze', 'data', '.', 'In', 'addition', 'to', 'data', 'analysis', ',', 'data', 'scientists', 'also', 'employ', 'various', 'modeling', 'techniques', 'to', 'build', 'predictive', 'or', 'descriptive', 'models', '.', 'These', 'models', 'can', 'range', 'from', 'simple', 'linear', 'regression', 'models', 'to', 'complex', 'machine', 'learning', 'algorithms', 'such', 'as', 'decision', 'trees', ',', 'random', 'forests', ',', 'or', 'deep', 'learning', 'models', '.', 'Evaluating', 'the', 'performance', 'of', 'these', 'models', 'is', 'an', 'essential', 'step', ',', 'and', 'metrics', 'such', 'as', 'accuracy', ',', 'precision', ',', 'recall', ',', 'and', 'F1-score', 'are', 'used', 'to', 'assess', 'the', 'model', \"'s\", 'effectiveness', '.', 'Data', 'science', 'is', 'a', 'multidisciplinary', 'field', 'that', 'requires', 'a', 'combination', 'of', 'technical', 'skills', ',', 'domain', 'knowledge', ',', 'and', 'critical', 'thinking', '.', 'It', 'has'] \n",
      "\n",
      "1 th document is :\n",
      "['The', 'gentle', 'breeze', 'rustles', 'through', 'the', 'leaves', ',', 'creating', 'a', 'soothing', 'melody', '.', 'Birds', 'chirp', 'in', 'the', 'distance', ',', 'their', 'melodic', 'songs', 'filling', 'the', 'air', '.', 'A', 'field', 'of', 'colorful', 'wildflowers', 'sways', 'gracefully', 'in', 'the', 'wind', ',', 'painting', 'the', 'landscape', 'with', 'vibrant', 'hues', '.', 'The', 'sun', 'shines', 'brightly', ',', 'casting', 'its', 'warm', 'rays', 'upon', 'the', 'earth', '.', 'In', 'a', 'quaint', 'little', 'cafe', ',', 'the', 'aroma', 'of', 'freshly', 'brewed', 'coffee', 'fills', 'the', 'air', ',', 'enticing', 'passersby', '.', 'Baristas', 'skillfully', 'craft', 'intricate', 'latte', 'art', ',', 'turning', 'coffee', 'into', 'a', 'work', 'of', 'art', '.', 'The', 'sound', 'of', 'friendly', 'chatter', 'and', 'laughter', 'echoes', 'throughout', 'the', 'cozy', 'space', '.', 'Patrons', 'savor', 'each', 'sip', ',', 'enjoying', 'moments', 'of', 'relaxation', '.', 'On', 'a', 'sandy', 'beach', ',', 'waves', 'crash', 'against', 'the', 'shore', ',', 'creating', 'a', 'symphony', 'of', 'sounds', '.', 'Children', 'build', 'sandcastles', ',', 'their', 'laughter', 'filling', 'the', 'air', 'with', 'joy', '.', 'Seagulls', 'soar', 'overhead', ',', 'their', 'graceful', 'flight', 'against', 'the', 'blue', 'sky', 'mesmerizing', 'to', 'watch', '.', 'Beachgoers', 'bask', 'in', 'the', 'sun', ',', 'enjoying', 'the', 'warmth', 'on', 'their', 'skin', '.', 'In', 'a', 'bustling', 'market', ',', 'vendors', 'display', 'their', 'colorful', 'array', 'of', 'fruits', 'and', 'vegetables', '.', 'The', 'scent', 'of', 'spices', 'wafts', 'through', 'the', 'air', ',', 'tempting', 'taste', 'buds', '.', 'Bargaining', 'and', 'lively', 'conversations', 'fill', 'the', 'atmosphere', ',', 'creating', 'a', 'lively', 'and', 'vibrant', 'ambiance', '.', 'The', 'market', 'is', 'a', 'hub', 'of', 'activity', 'and', 'a', 'feast', 'for', 'the', 'senses', '.', 'As', 'night', 'falls', ',', 'stars', 'twinkle', 'in', 'the', 'velvety', 'sky', ',', 'illuminating', 'the', 'world', 'with', 'their', 'celestial', 'glow', '.', 'The', 'moon', 'casts', 'a', 'gentle', 'light', ',', 'creating', 'a', 'romantic', 'atmosphere', '.', 'Fireflies', 'dance', 'among', 'the', 'trees', ',', 'their', 'soft', 'glow', 'adding', 'a', 'touch', 'of', 'magic', 'to', 'the', 'night', '.', 'Night', 'owls', 'hoot', 'in', 'the', 'distance', ',', 'while', 'crickets', 'serenade', 'the', 'darkness', '.', 'Life', 'is', 'a', 'beautiful', 'journey', ',', 'filled', 'with', 'moments', 'of', 'wonder', 'and', 'awe', '.', 'From', 'the', 'tranquility', 'of', 'nature', 'to', 'the', 'energy', 'of', 'bustling', 'cities', ',', 'every', 'experience', 'holds', 'its', 'own', 'charm', '.', 'Embrace', 'the', 'diversity', 'and', 'beauty', 'that', 'surrounds', 'you', ',', 'and', 'let', 'each', 'day', 'be', 'an', 'adventure', 'worth', 'cherishing', '.'] \n",
      "\n",
      "2 th document is :\n",
      "['The', 'majestic', 'mountains', 'rise', 'tall', 'against', 'the', 'clear', 'blue', 'sky', ',', 'their', 'peaks', 'capped', 'with', 'snow', '.', 'The', 'sound', 'of', 'a', 'babbling', 'brook', 'fills', 'the', 'air', ',', 'as', 'it', 'weaves', 'its', 'way', 'through', 'the', 'lush', 'green', 'valley', '.', 'A', 'deer', 'gracefully', 'leaps', 'across', 'the', 'meadow', ',', 'its', 'coat', 'shimmering', 'in', 'the', 'sunlight', '.', 'The', 'scent', 'of', 'pine', 'trees', 'permeates', 'the', 'forest', ',', 'creating', 'a', 'refreshing', 'aroma', '.', 'In', 'a', 'cozy', 'cottage', 'nestled', 'by', 'the', 'lakeside', ',', 'a', 'crackling', 'fireplace', 'warms', 'the', 'room', '.', 'The', 'soft', 'glow', 'of', 'candlelight', 'illuminates', 'the', 'space', ',', 'creating', 'a', 'peaceful', 'ambiance', '.', 'The', 'aroma', 'of', 'freshly', 'baked', 'apple', 'pie', 'fills', 'the', 'kitchen', ',', 'enticing', 'everyone', 'with', 'its', 'delicious', 'scent', '.', 'Family', 'and', 'friends', 'gather', 'around', 'the', 'table', ',', 'sharing', 'laughter', 'and', 'stories', '.', 'As', 'the', 'sun', 'sets', ',', 'painting', 'the', 'sky', 'with', 'hues', 'of', 'orange', 'and', 'pink', ',', 'a', 'sense', 'of', 'tranquility', 'settles', 'over', 'the', 'landscape', '.', 'The', 'stars', 'twinkle', 'brightly', ',', 'creating', 'a', 'breathtaking', 'canopy', 'in', 'the', 'night', 'sky', '.', 'The', 'moon', 'casts', 'a', 'gentle', 'glow', ',', 'guiding', 'the', 'way', 'for', 'nocturnal', 'creatures', '.', 'Owls', 'hoot', 'in', 'the', 'distance', ',', 'adding', 'to', 'the', 'mystique', 'of', 'the', 'night', '.', 'In', 'the', 'city', ',', 'bustling', 'streets', 'are', 'filled', 'with', 'the', 'rhythm', 'of', 'life', '.', 'Neon', 'lights', 'illuminate', 'the', 'skyline', ',', 'creating', 'a', 'vibrant', 'display', '.', 'People', 'hurry', 'along', ',', 'immersed', 'in', 'their', 'own', 'worlds', ',', 'while', 'street', 'performers', 'captivate', 'audiences', 'with', 'their', 'talents', '.', 'The', 'aroma', 'of', 'diverse', 'cuisines', 'fills', 'the', 'air', ',', 'tempting', 'taste', 'buds', 'with', 'a', 'culinary', 'adventure', '.', 'Life', 'is', 'a', 'tapestry', 'of', 'experiences', ',', 'each', 'thread', 'woven', 'with', 'moments', 'of', 'joy', ',', 'love', ',', 'and', 'discovery', '.', 'From', 'serene', 'natural', 'landscapes', 'to', 'vibrant', 'urban', 'landscapes', ',', 'every', 'corner', 'of', 'the', 'world', 'offers', 'its', 'own', 'unique', 'beauty', '.', 'Embrace', 'the', 'wonders', 'that', 'surround', 'you', 'and', 'let', 'the', 'journey', 'unfold', ',', 'filled', 'with', 'remarkable', 'encounters', 'and', 'cherished', 'memories', '.'] \n",
      "\n"
     ]
    }
   ],
   "source": [
    "documents = [document1 , document2 , document3]\n",
    "\n",
    "token = {}\n",
    "i = 0\n",
    "for document in documents:\n",
    "    token[i] = word_tokenize(document)\n",
    "    print(i , \"th document is :\")\n",
    "    print(token[i] , \"\\n\")\n",
    "    i = i + 1\n"
   ]
  },
  {
   "cell_type": "code",
   "execution_count": null,
   "metadata": {},
   "outputs": [],
   "source": []
  }
 ],
 "metadata": {
  "kernelspec": {
   "display_name": "Python 3",
   "language": "python",
   "name": "python3"
  },
  "language_info": {
   "codemirror_mode": {
    "name": "ipython",
    "version": 3
   },
   "file_extension": ".py",
   "mimetype": "text/x-python",
   "name": "python",
   "nbconvert_exporter": "python",
   "pygments_lexer": "ipython3",
   "version": "3.10.6"
  },
  "orig_nbformat": 4
 },
 "nbformat": 4,
 "nbformat_minor": 2
}
